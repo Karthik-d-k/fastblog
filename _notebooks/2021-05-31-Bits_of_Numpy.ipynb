{
 "cells": [
  {
   "cell_type": "markdown",
   "id": "annoying-nirvana",
   "metadata": {},
   "source": [
    "# \"Bits of Numpy\"\n",
    "> \"Useful Strategies to use in Numpy to get rid of loops in Python\"\n",
    "\n",
    "- toc: true\n",
    "- badges: true\n",
    "- hide_binder_badge: true\n",
    "- comments: true\n",
    "- author: Karthik D K\n",
    "- categories: [numpy]"
   ]
  },
  {
   "cell_type": "markdown",
   "id": "loved-linux",
   "metadata": {},
   "source": [
    "#hide\n",
    "## Installing Numpy"
   ]
  },
  {
   "cell_type": "code",
   "execution_count": 1,
   "id": "employed-final",
   "metadata": {},
   "outputs": [],
   "source": [
    "#hide\n",
    "# #uncomment and run this cell if you don't have numpy already installed\n",
    "# use_conda = False      #set to `True` if you want to install numpy using conda else it will be installed using pip\n",
    "# if use_conda:\n",
    "#     !conda install numpy\n",
    "# else:\n",
    "#     !pip install numpy"
   ]
  },
  {
   "cell_type": "code",
   "execution_count": 8,
   "id": "alive-horizontal",
   "metadata": {},
   "outputs": [],
   "source": [
    "#collapse-hide\n",
    "import numpy as np"
   ]
  },
  {
   "cell_type": "code",
   "execution_count": 3,
   "id": "previous-shooting",
   "metadata": {},
   "outputs": [
    {
     "name": "stdout",
     "output_type": "stream",
     "text": [
      "I will be using Numpy version :- 1.19.2\n",
      "\n"
     ]
    }
   ],
   "source": [
    "#hide_input\n",
    "print(f\"I will be using Numpy version :- {np.__version__}\\n\")"
   ]
  },
  {
   "cell_type": "markdown",
   "id": "modular-slave",
   "metadata": {},
   "source": [
    "> Note: Click on `Open in colab` icon at the top of this blog, to read and play along with the code for yourself !"
   ]
  },
  {
   "cell_type": "markdown",
   "id": "ceramic-sauce",
   "metadata": {},
   "source": [
    "## What is Numpy "
   ]
  },
  {
   "cell_type": "markdown",
   "id": "attractive-indicator",
   "metadata": {},
   "source": [
    "NumPy is the fundamental package for scientific computing in Python. It is a Python library that provides a multidimensional array object, various derived objects (such as masked arrays and matrices), and an assortment of routines for fast operations on arrays, including mathematical, logical, shape manipulation, sorting, selecting, I/O, discrete Fourier transforms, basic linear algebra, basic statistical operations, random simulation and much more. [numpy.org](https://numpy.org/devdocs/user/whatisnumpy.html)"
   ]
  },
  {
   "cell_type": "markdown",
   "id": "hollywood-ministry",
   "metadata": {},
   "source": [
    "## Why Numpy "
   ]
  },
  {
   "cell_type": "markdown",
   "id": "accomplished-third",
   "metadata": {},
   "source": [
    "`Python` is a higher level language than `C`, which means it abstracts the details of the computer from you - memory management, pointers, etc, and allows you to write programs in a way which is closer to how humans think.\n",
    "\n",
    "It is true that `C` code usually runs 10 to 100 times faster than Python code if you measure only the execution time. However if you also include the development time Python often beats C. For many projects the development time is far more critical than the run time performance. Longer development time converts directly into extra costs, fewer features and slower time to market.[Source](https://stackoverflow.com/questions/3033329/why-are-python-programs-often-slower-than-the-equivalent-program-written-in-c-or)\n",
    "\n",
    "So, to get the advantage of both worlds, i.e, _faster_ _execution time_ and _development time_ we can make us of Numpy. \n",
    "\n",
    "I will tell you how exactly we can achieve this by introducing you with the following Numpy Strategies :-\n",
    "1. **UFuncs (Universal Functions)**\n",
    "\n",
    "2. __Aggregations__\n",
    "\n",
    "3. __Broadcasting__\n",
    "\n",
    "4. **Slicing, masking and fancy indexing**\n",
    "\n",
    "Let's look at each of these with some simple examples"
   ]
  },
  {
   "cell_type": "markdown",
   "id": "behavioral-roads",
   "metadata": {},
   "source": [
    "### 1. UFuncs (Univarsal Functions)"
   ]
  },
  {
   "cell_type": "markdown",
   "id": "worldwide-plaintiff",
   "metadata": {},
   "source": [
    "`ufuncs` are the sepcial type of functions defined in Numpy that are operated _element-wise on Arrays_"
   ]
  },
  {
   "cell_type": "markdown",
   "id": "spatial-discharge",
   "metadata": {},
   "source": [
    "I will create a Python List `L` and a numpy array `A` with some elements in it."
   ]
  },
  {
   "cell_type": "code",
   "execution_count": 4,
   "id": "logical-event",
   "metadata": {},
   "outputs": [
    {
     "data": {
      "text/plain": [
       "([0, 1, 2, 3, 4, 5, 6, 7, 8, 9], array([0, 1, 2, 3, 4, 5, 6, 7, 8, 9]))"
      ]
     },
     "execution_count": 4,
     "metadata": {},
     "output_type": "execute_result"
    }
   ],
   "source": [
    "L = list(range(10_000)) #create list of Integers from 0 to 999\n",
    "A = np.array(L)         #create python list to a numpy array\n",
    "L[0:10], A[0:10]        #print 1st 10 elements of the list/array"
   ]
  },
  {
   "cell_type": "markdown",
   "id": "charitable-mandate",
   "metadata": {},
   "source": [
    "Adding a number to every element in the list is done by using _List comprehensions_ for `L` and _ufuncs_ for `A` "
   ]
  },
  {
   "cell_type": "code",
   "execution_count": 5,
   "id": "adjustable-glance",
   "metadata": {},
   "outputs": [
    {
     "data": {
      "text/plain": [
       "([10, 11, 12, 13, 14, 15, 16, 17, 18, 19],\n",
       " array([10, 11, 12, 13, 14, 15, 16, 17, 18, 19]))"
      ]
     },
     "execution_count": 5,
     "metadata": {},
     "output_type": "execute_result"
    }
   ],
   "source": [
    "L = [(l+10) for l in L] #add 10 to each element\n",
    "A = A + 10              #add 10 to each element\n",
    "L[0:10], A[0:10]        #print 1st 10 elements of the list/array"
   ]
  },
  {
   "cell_type": "markdown",
   "id": "russian-silence",
   "metadata": {},
   "source": [
    "compare which works faster using line magic comand -> `%timeit` (_This line magic command will run the line for specific number of times and gives us the average time it took to run that particular line of code_)"
   ]
  },
  {
   "cell_type": "code",
   "execution_count": 6,
   "id": "expensive-stroke",
   "metadata": {},
   "outputs": [
    {
     "name": "stdout",
     "output_type": "stream",
     "text": [
      "465 µs ± 22.5 µs per loop (mean ± std. dev. of 7 runs, 1000 loops each)\n",
      "5.61 µs ± 180 ns per loop (mean ± std. dev. of 7 runs, 1000 loops each)\n"
     ]
    }
   ],
   "source": [
    "%timeit -n 1000 [(l+10) for l in L]\n",
    "%timeit -n 1000 A + 10"
   ]
  },
  {
   "cell_type": "code",
   "execution_count": 7,
   "id": "recorded-notion",
   "metadata": {},
   "outputs": [
    {
     "name": "stdout",
     "output_type": "stream",
     "text": [
      "Speed increment is almost 84.36 times\n"
     ]
    }
   ],
   "source": [
    "print(f\"Speed increment is almost {464/5.5 :.2f} times\")"
   ]
  },
  {
   "cell_type": "markdown",
   "id": "remarkable-ministry",
   "metadata": {},
   "source": [
    "There are many __ufuncs__ available, some of them are listed below :-\n",
    "- Arithmetic operators   :-  `+`  `-`  `*`  `/`  `//`  `%`  ....\n",
    "- Bitwise operators      :-  `&`  `|`  `~`  `^`  `>>`  `<<` ....\n",
    "- Comparision operators  :-  `<`  `>`  `>=`  `<=`  `==`  `!=`  ....\n",
    "- Trignometric operators :-  `np.sin`  `np.cos`  `np.tan`   ....\n",
    "- Exponential operators  :-  `np.exp`  `np.log`  `np.log10` ....\n",
    "\n",
    "Take a look at official documentation for more [ufuncs](https://numpy.org/doc/stable/reference/ufuncs.html)"
   ]
  },
  {
   "cell_type": "markdown",
   "id": "coral-living",
   "metadata": {},
   "source": [
    "### 2. Aggregations"
   ]
  },
  {
   "cell_type": "markdown",
   "id": "numeric-basis",
   "metadata": {},
   "source": [
    "`Aggregations` are the functions that summarizes the values in an `array`"
   ]
  },
  {
   "cell_type": "markdown",
   "id": "green-milton",
   "metadata": {},
   "source": [
    "Let's create Python Lists of list `L` and a numpy 2d-array `A` with some elements in it."
   ]
  },
  {
   "cell_type": "code",
   "execution_count": 8,
   "id": "assumed-exhibition",
   "metadata": {},
   "outputs": [
    {
     "data": {
      "text/plain": [
       "([[1, 11], [2, 22], [3, 33], [4, 44]],\n",
       " array([[ 1, 11],\n",
       "        [ 2, 22],\n",
       "        [ 3, 33],\n",
       "        [ 4, 44]]),\n",
       " (4, 2))"
      ]
     },
     "execution_count": 8,
     "metadata": {},
     "output_type": "execute_result"
    }
   ],
   "source": [
    "L = [[1,11], [2,22], [3,33], [4,44]] #create lists of list with 2 elements in each list\n",
    "A = np.array(L, dtype=np.int)        #convert L into a 2d-array of shape 4 x 2\n",
    "L, A, A.shape"
   ]
  },
  {
   "cell_type": "markdown",
   "id": "downtown-consumer",
   "metadata": {},
   "source": [
    "Now let's say we have to find the minimum value in the given array by sepcifying `axis` i.e along which dimention we want our function to be applied. This can be done easily by using following aggregations."
   ]
  },
  {
   "cell_type": "code",
   "execution_count": 9,
   "id": "virtual-emerald",
   "metadata": {},
   "outputs": [
    {
     "data": {
      "text/plain": [
       "array([ 1, 11])"
      ]
     },
     "execution_count": 9,
     "metadata": {},
     "output_type": "execute_result"
    }
   ],
   "source": [
    "A.min(axis = 0) #Gives us the minimum value in each column"
   ]
  },
  {
   "cell_type": "code",
   "execution_count": 10,
   "id": "blond-messenger",
   "metadata": {},
   "outputs": [
    {
     "data": {
      "text/plain": [
       "array([1, 2, 3, 4])"
      ]
     },
     "execution_count": 10,
     "metadata": {},
     "output_type": "execute_result"
    }
   ],
   "source": [
    "A.min(axis = 1) #Gives us the minimum value in each row"
   ]
  },
  {
   "cell_type": "markdown",
   "id": "arabic-madison",
   "metadata": {},
   "source": [
    "Now, let;s find the `summation` of all the values in an array and also along each axis seperately."
   ]
  },
  {
   "cell_type": "code",
   "execution_count": 11,
   "id": "political-harmony",
   "metadata": {},
   "outputs": [
    {
     "data": {
      "text/plain": [
       "array([ 10, 110])"
      ]
     },
     "execution_count": 11,
     "metadata": {},
     "output_type": "execute_result"
    }
   ],
   "source": [
    "A.sum(axis=0) #Gives us the summation in each column"
   ]
  },
  {
   "cell_type": "code",
   "execution_count": 12,
   "id": "listed-variance",
   "metadata": {},
   "outputs": [
    {
     "data": {
      "text/plain": [
       "array([12, 24, 36, 48])"
      ]
     },
     "execution_count": 12,
     "metadata": {},
     "output_type": "execute_result"
    }
   ],
   "source": [
    "A.sum(axis=1) #Gives us the summation in each row"
   ]
  },
  {
   "cell_type": "code",
   "execution_count": 13,
   "id": "polar-relief",
   "metadata": {},
   "outputs": [
    {
     "data": {
      "text/plain": [
       "120"
      ]
     },
     "execution_count": 13,
     "metadata": {},
     "output_type": "execute_result"
    }
   ],
   "source": [
    "A.sum() #Gives us the summation of all elements if we don't specify any axis"
   ]
  },
  {
   "cell_type": "markdown",
   "id": "beautiful-revision",
   "metadata": {},
   "source": [
    "Similarly we can use any aggregation functions we want to apply on an array, some of them are given below :-\n",
    "\n",
    "`Functions` :\t `Description`\n",
    "- np.mean() :\tCompute the arithmetic mean along the specified axis.\n",
    "- np.std() :\tCompute the standard deviation along the specified axis.\n",
    "- np.var() :\tCompute the variance along the specified axis.\n",
    "- np.sum() :\tSum of array elements over a given axis.\n",
    "- np.prod() :\tReturn the product of array elements over a given axis.\n",
    "- np.cumsum() :\tReturn the cumulative sum of the elements along a given axis.\n",
    "- np.cumprod() :\tReturn the cumulative product of elements along a given axis.\n",
    "- np.min(), np.max() :\tReturn the minimum / maximum of an array or minimum along an axis.\n",
    "- np.argmin(), np.argmax() :\tReturns the indices of the minimum / maximum values along an axis\n",
    "- np.all() :\tTest whether all array elements along a given axis evaluate to True.\n",
    "- np.any() :\tTest whether any array element along a given axis evaluates to True. [source](https://www.pythonprogramming.in/numpy-aggregate-and-statistical-functions.html)"
   ]
  },
  {
   "cell_type": "markdown",
   "id": "wanted-brunei",
   "metadata": {},
   "source": [
    "### 3. Broadcasting\n",
    "[Source -> fast.ai](https://colab.research.google.com/github/fastai/fastbook/blob/master/17_foundations.ipynb)"
   ]
  },
  {
   "cell_type": "markdown",
   "id": "reasonable-giant",
   "metadata": {},
   "source": [
    "`Broadcasting` is a set of rules by which `ufuncs` operate on _arrays of different sizes and/or different dimensions_   \n",
    "\n",
    "For instance, it's obvious there is no way to add a 3×3 matrix with a 4×5 matrix, but what if we want to add one scalar (which can be represented as a 1×1 array) with a matrix? Or a vector of size 3 with a 3×4 matrix? In both cases, we can find a way to make sense of this operation.\n",
    "\n",
    "Broadcasting gives specific rules to codify when shapes are compatible when trying to do an elementwise operation, and how the array of the smaller shape is expanded to match the array of the bigger shape. It's essential to master those rules if you want to be able to write code that executes quickly."
   ]
  },
  {
   "cell_type": "markdown",
   "id": "adjusted-russian",
   "metadata": {},
   "source": [
    "#### Broadcasting with a scalar"
   ]
  },
  {
   "cell_type": "markdown",
   "id": "interior-sheep",
   "metadata": {},
   "source": [
    "Broadcasting with a scalar is the easiest type of broadcasting. When we have a array `a` and a scalar, we just imagine a array of the same shape as `a` filled with that scalar and perform the operation:"
   ]
  },
  {
   "cell_type": "code",
   "execution_count": 14,
   "id": "innovative-grace",
   "metadata": {},
   "outputs": [
    {
     "data": {
      "text/plain": [
       "array([False, False,  True,  True,  True])"
      ]
     },
     "execution_count": 14,
     "metadata": {},
     "output_type": "execute_result"
    }
   ],
   "source": [
    "a = np.array([1, 2, 4, 8, 12])\n",
    "a > 3"
   ]
  },
  {
   "cell_type": "markdown",
   "id": "designing-orlando",
   "metadata": {},
   "source": [
    "How are we able to do this comparison? `3` is being *broadcast* to have the same dimensions as `a`. Note that this is done without creating a array full of zeros in memory (that would be very inefficient). \n",
    "\n",
    "This is very useful if you want to normalize your dataset by subtracting the mean (a scalar) from the entire data set (a matrix) and dividing by the standard deviation (another scalar):"
   ]
  },
  {
   "cell_type": "code",
   "execution_count": 15,
   "id": "level-inventory",
   "metadata": {},
   "outputs": [
    {
     "data": {
      "text/plain": [
       "array([[-1.46520147, -1.0989011 , -0.73260073],\n",
       "       [-0.36630037,  0.        ,  0.36630037],\n",
       "       [ 0.73260073,  1.0989011 ,  1.46520147]])"
      ]
     },
     "execution_count": 15,
     "metadata": {},
     "output_type": "execute_result"
    }
   ],
   "source": [
    "m = np.array([[1., 2, 3], [4,5,6], [7,8,9]])\n",
    "(m - 5) / 2.73"
   ]
  },
  {
   "cell_type": "markdown",
   "id": "structured-bradford",
   "metadata": {},
   "source": [
    "What if have different means for each row of the matrix? in that case you will need to broadcast a vector to a matrix."
   ]
  },
  {
   "cell_type": "markdown",
   "id": "tight-annotation",
   "metadata": {},
   "source": [
    "#### Broadcasting a vector to a matrix"
   ]
  },
  {
   "cell_type": "markdown",
   "id": "ranking-cleaners",
   "metadata": {},
   "source": [
    "We can broadcast a vector to a matrix as follows:"
   ]
  },
  {
   "cell_type": "code",
   "execution_count": 16,
   "id": "round-triumph",
   "metadata": {},
   "outputs": [
    {
     "data": {
      "text/plain": [
       "((3, 3), (3,))"
      ]
     },
     "execution_count": 16,
     "metadata": {},
     "output_type": "execute_result"
    }
   ],
   "source": [
    "c = np.array([10.,20,30])\n",
    "m = np.array([[1., 2, 3], [4,5,6], [7,8,9]])\n",
    "m.shape,c.shape"
   ]
  },
  {
   "cell_type": "code",
   "execution_count": 17,
   "id": "velvet-combining",
   "metadata": {},
   "outputs": [
    {
     "data": {
      "text/plain": [
       "array([[11., 22., 33.],\n",
       "       [14., 25., 36.],\n",
       "       [17., 28., 39.]])"
      ]
     },
     "execution_count": 17,
     "metadata": {},
     "output_type": "execute_result"
    }
   ],
   "source": [
    "m + c"
   ]
  },
  {
   "cell_type": "markdown",
   "id": "alike-reasoning",
   "metadata": {},
   "source": [
    "Here the elements of `c` are expanded to make three rows that match, making the operation possible. Again, Numpy doesn't actually create three copies of `c` in memory."
   ]
  },
  {
   "cell_type": "code",
   "execution_count": 18,
   "id": "boxed-hypothetical",
   "metadata": {},
   "outputs": [
    {
     "data": {
      "text/plain": [
       "24"
      ]
     },
     "execution_count": 18,
     "metadata": {},
     "output_type": "execute_result"
    }
   ],
   "source": [
    "t = np.expand_dims(c, axis=1) \n",
    "t.nbytes                       #nbytes: This attribute gives the total bytes consumed by the elements of the NumPy array."
   ]
  },
  {
   "cell_type": "markdown",
   "id": "initial-monroe",
   "metadata": {},
   "source": [
    "If we want to broadcast in the other dimension, we have to change the shape of our vector to make it a 3×1 matrix. This is done with the `unsqueeze` method in Numpy:"
   ]
  },
  {
   "cell_type": "code",
   "execution_count": 19,
   "id": "relevant-connecticut",
   "metadata": {},
   "outputs": [
    {
     "data": {
      "text/plain": [
       "((3, 3), (3, 1))"
      ]
     },
     "execution_count": 19,
     "metadata": {},
     "output_type": "execute_result"
    }
   ],
   "source": [
    "c = np.array([10.,20,30])\n",
    "m = np.array([[1., 2, 3], [4,5,6], [7,8,9]])\n",
    "c = np.expand_dims(c, axis=1)\n",
    "m.shape,c.shape"
   ]
  },
  {
   "cell_type": "markdown",
   "id": "expired-fence",
   "metadata": {},
   "source": [
    "This time, `c` is expanded on the column side:"
   ]
  },
  {
   "cell_type": "code",
   "execution_count": 20,
   "id": "charitable-handle",
   "metadata": {
    "scrolled": true
   },
   "outputs": [
    {
     "data": {
      "text/plain": [
       "array([[11., 12., 13.],\n",
       "       [24., 25., 26.],\n",
       "       [37., 38., 39.]])"
      ]
     },
     "execution_count": 20,
     "metadata": {},
     "output_type": "execute_result"
    }
   ],
   "source": [
    "c+m"
   ]
  },
  {
   "cell_type": "markdown",
   "id": "outer-spine",
   "metadata": {},
   "source": [
    "Like before, only three scalars are stored in memory:"
   ]
  },
  {
   "cell_type": "code",
   "execution_count": 21,
   "id": "occupied-documentary",
   "metadata": {},
   "outputs": [
    {
     "data": {
      "text/plain": [
       "24"
      ]
     },
     "execution_count": 21,
     "metadata": {},
     "output_type": "execute_result"
    }
   ],
   "source": [
    "t = np.expand_dims(c, axis=1)\n",
    "t.nbytes"
   ]
  },
  {
   "cell_type": "markdown",
   "id": "portable-walnut",
   "metadata": {},
   "source": [
    "Adding or removing extra dimentions in numpy using `None`"
   ]
  },
  {
   "cell_type": "code",
   "execution_count": 22,
   "id": "coated-spine",
   "metadata": {},
   "outputs": [
    {
     "data": {
      "text/plain": [
       "((3, 1), (1, 3, 1), (3, 1, 1), (3,))"
      ]
     },
     "execution_count": 22,
     "metadata": {},
     "output_type": "execute_result"
    }
   ],
   "source": [
    "c.shape, c[None,:].shape,c[:,None].shape, c.squeeze(1).shape"
   ]
  },
  {
   "cell_type": "markdown",
   "id": "tracked-quantum",
   "metadata": {},
   "source": [
    "You can always omit trailing colons, and `...` means all preceding dimensions:"
   ]
  },
  {
   "cell_type": "code",
   "execution_count": 23,
   "id": "bacterial-chemical",
   "metadata": {},
   "outputs": [
    {
     "data": {
      "text/plain": [
       "((1, 3, 1), (3, 1, 1))"
      ]
     },
     "execution_count": 23,
     "metadata": {},
     "output_type": "execute_result"
    }
   ],
   "source": [
    "c[None].shape,c[...,None].shape"
   ]
  },
  {
   "cell_type": "markdown",
   "id": "breeding-tackle",
   "metadata": {},
   "source": [
    "#### Rules of Broadcasting"
   ]
  },
  {
   "cell_type": "markdown",
   "id": "cheap-bonus",
   "metadata": {},
   "source": [
    "When operating on two Arrays, Numpy compares their shapes elementwise. It starts with the *trailing dimensions* and works its way backward, adding 1 when it meets empty dimensions. Two dimensions are *compatible* when one of the following is true:\n",
    "\n",
    "- They are equal.\n",
    "- One of them is 1, in which case that dimension is broadcast to make it the same as the other.\n",
    "\n",
    "Arrays do not need to have the same number of dimensions. For example, if you have a 256×256×3 array of RGB values, and you want to scale each color in the image by a different value, you can multiply the image by a one-dimensional array with three values. Lining up the sizes of the trailing axes of these arrays according to the broadcast rules, shows that they are compatible:\n",
    "\n",
    "```\n",
    "Image  (3d Array): 256 x 256 x 3\n",
    "Scale  (1d Array):  (1)   (1)  3\n",
    "Result (3d Array): 256 x 256 x 3\n",
    "```"
   ]
  },
  {
   "cell_type": "markdown",
   "id": "monthly-innocent",
   "metadata": {},
   "source": [
    "#### Example 1"
   ]
  },
  {
   "cell_type": "markdown",
   "id": "pacific-communications",
   "metadata": {},
   "source": [
    "Try to determine what dimensions you will get as an output when you multiply below 2 vectors (v1 * v2) :\n",
    "```\n",
    "v1 = [[0],\n",
    "      [1],\n",
    "      [2]]   with shape 3 x 1\n",
    "      \n",
    "v2 = [0,1,2] with shape 1 x 3\n",
    "```"
   ]
  },
  {
   "cell_type": "code",
   "execution_count": 24,
   "id": "criminal-magazine",
   "metadata": {},
   "outputs": [
    {
     "name": "stdout",
     "output_type": "stream",
     "text": [
      "\n",
      "Example 1 :- Answer\n",
      "---------------------\n",
      "\n",
      "The shape of (v1 * v2) is :- (3, 3)\n",
      "\n",
      "The reason is as follows :- \n",
      "\n",
      "shape of v1 = [3 x 1]\n",
      "\n",
      "shape of v2 = [3]\n",
      "\n",
      "when you try to mutiply arrays of above shape,\n",
      "\n",
      "step 1 :- shape of v2 will become [1 x 3] to match the number of axis of v1\n",
      "\n",
      "step 2 :- final shapes of v1 and v2 will be equal to [3 x 3], beacuse both axis wil be broadcasted to the higher dimensions to make it the same as the other\n"
     ]
    }
   ],
   "source": [
    "#collapse-hide\n",
    "print(\"\"\"\n",
    "Example 1 :- Answer\n",
    "---------------------\n",
    "\"\"\")\n",
    "v1 = np.arange(3).reshape(3,1)\n",
    "v2 = np.arange(3)\n",
    "v3 = v1 * v2   \n",
    "print(f\"The shape of (v1 * v2) is :- {v3.shape}\\n\") \n",
    "\n",
    "print(\"The reason is as follows :- \\n\")\n",
    "print(\"shape of v1 = [3 x 1]\\n\")\n",
    "print(\"shape of v2 = [3]\\n\")\n",
    "print(\"when you try to mutiply arrays of above shape,\\n\")\n",
    "print(\"step 1 :- shape of v2 will become [1 x 3] to match the number of axis of v1\\n\")\n",
    "print(\"step 2 :- final shapes of v1 and v2 will be equal to [3 x 3], beacuse both axis wil be broadcasted to the higher dimensions to make it the same as the other\")"
   ]
  },
  {
   "cell_type": "markdown",
   "id": "religious-basket",
   "metadata": {},
   "source": [
    "#### Example 2"
   ]
  },
  {
   "cell_type": "markdown",
   "id": "purple-worthy",
   "metadata": {},
   "source": [
    "Here is slightly complicated exercise, try to determine what dimensions to add (and where) when you need to normalize a batch of images of size `64 x 3 x 256 x 256` (`no. of imgs x no. of channels x height x witdh`) with vectors of three elements (one for the mean and one for the standard deviation)."
   ]
  },
  {
   "cell_type": "code",
   "execution_count": 25,
   "id": "greenhouse-worship",
   "metadata": {},
   "outputs": [
    {
     "name": "stdout",
     "output_type": "stream",
     "text": [
      "\n",
      "Example 2 :- Answer\n",
      "--------------------\n",
      "\n",
      "Create an array of given shape with random floats sampled from a univariate normal(Gaussian) distribution of mean 0 and variance 1\n",
      "\n",
      "Shape of created image is :- (64, 3, 256, 256)\n",
      "\n",
      "[4 x 4] values of 1st channel of 1st image :- \n",
      "\n",
      "[[-0.03435409 -1.38338202 -0.08341944 -0.1930462 ]\n",
      " [ 0.84541251 -1.03895418  0.2455685  -0.89559485]\n",
      " [ 0.99927253 -0.29458447  1.91009142  0.93426054]\n",
      " [ 0.48428839 -1.8414874   0.46746997 -1.42344483]]\n",
      "\n",
      "taking mean over all the axis expect the channel axis gives us :- \n",
      "\n",
      "[-0.00048131 -0.00048009 -0.00079984]\n",
      "\n",
      "taking std over all the axis expect the channel axis gives us :- \n",
      "\n",
      "[0.99951819 1.00006011 0.99943832]\n",
      "\n",
      "As expected, mean is almost 0 and variance is 1 for all the 3 channels.\n",
      "\n",
      "So, as you might have guessed, to normalize a batch of images of size [64 x 3 x 256 x 256] with vector of three elements, we need to add additional axis at 0, 2 and 3 (or 2 and 3)which makes the final shapes of imgs_mean, imgs_std == [1 x 3 x 1 x 1]  (or [3 x 1 x 1] bcz, last dimension will be added automatically via broadcasting)\n"
     ]
    }
   ],
   "source": [
    "#collapse-hide\n",
    "print(\"\"\"\n",
    "Example 2 :- Answer\n",
    "--------------------\n",
    "\"\"\")\n",
    "print(\"Create an array of given shape with random floats sampled from a univariate normal(Gaussian) distribution of mean 0 and variance 1\\n\")\n",
    "imgs=np.random.randn(64,3,256,256) \n",
    "print(f\"Shape of created image is :- {imgs.shape}\\n\")\n",
    "print(f\"[4 x 4] values of 1st channel of 1st image :- \\n\")      \n",
    "print(f\"{imgs[0,0,0:4,0:4]}\\n\")        \n",
    "imgs_mean = imgs.mean(axis=(0,2,3)) \n",
    "imgs_std = imgs.std(axis=(0,2,3))  \n",
    "print(f\"taking mean over all the axis expect the channel axis gives us :- \\n\") \n",
    "print(f\"{imgs_mean}\\n\") \n",
    "print(f\"taking std over all the axis expect the channel axis gives us :- \\n\") \n",
    "print(f\"{imgs_std}\\n\") \n",
    "print(f\"As expected, mean is almost 0 and variance is 1 for all the 3 channels.\\n\") \n",
    "print(\"So, as you might have guessed, to normalize a batch of images of size [64 x 3 x 256 x 256] with vector of three elements, we need to add additional axis at 0, 2 and 3 (or 2 and 3)which makes the final shapes of imgs_mean, imgs_std == [1 x 3 x 1 x 1]  (or [3 x 1 x 1] bcz, last dimension will be added automatically via broadcasting)\")"
   ]
  },
  {
   "cell_type": "markdown",
   "id": "pressing-annual",
   "metadata": {},
   "source": [
    "### 4. Slicing, masking and fancy indexing"
   ]
  },
  {
   "cell_type": "markdown",
   "id": "registered-reviewer",
   "metadata": {},
   "source": [
    "`indexing` in Python lists accepts `Integers/slices` "
   ]
  },
  {
   "cell_type": "code",
   "execution_count": 31,
   "id": "innocent-satellite",
   "metadata": {},
   "outputs": [
    {
     "data": {
      "text/plain": [
       "[0, 1, 2, 3, 4, 5, 6, 7, 8, 9]"
      ]
     },
     "execution_count": 31,
     "metadata": {},
     "output_type": "execute_result"
    }
   ],
   "source": [
    "L = list(range(10))\n",
    "L"
   ]
  },
  {
   "cell_type": "code",
   "execution_count": 32,
   "id": "satisfied-bracket",
   "metadata": {},
   "outputs": [
    {
     "data": {
      "text/plain": [
       "2"
      ]
     },
     "execution_count": 32,
     "metadata": {},
     "output_type": "execute_result"
    }
   ],
   "source": [
    "L[2] #integer index"
   ]
  },
  {
   "cell_type": "code",
   "execution_count": 33,
   "id": "accessible-species",
   "metadata": {},
   "outputs": [
    {
     "data": {
      "text/plain": [
       "[1, 2]"
      ]
     },
     "execution_count": 33,
     "metadata": {},
     "output_type": "execute_result"
    }
   ],
   "source": [
    "L[1:3] #slice for multiple elements"
   ]
  },
  {
   "cell_type": "markdown",
   "id": "latest-worthy",
   "metadata": {},
   "source": [
    "**Indexing** in Numpy arrays works similar"
   ]
  },
  {
   "cell_type": "code",
   "execution_count": 34,
   "id": "dying-distributor",
   "metadata": {},
   "outputs": [
    {
     "data": {
      "text/plain": [
       "(2, array([1, 2]))"
      ]
     },
     "execution_count": 34,
     "metadata": {},
     "output_type": "execute_result"
    }
   ],
   "source": [
    "A = np.array(L)\n",
    "A[2], A[1:3]"
   ]
  },
  {
   "cell_type": "markdown",
   "id": "external-glossary",
   "metadata": {},
   "source": [
    "But numpy offers other fast and convenient indexing as well"
   ]
  },
  {
   "cell_type": "markdown",
   "id": "following-stone",
   "metadata": {},
   "source": [
    "__Masking__ :- Indexing with Bolean masks"
   ]
  },
  {
   "cell_type": "code",
   "execution_count": 35,
   "id": "small-verse",
   "metadata": {},
   "outputs": [
    {
     "data": {
      "text/plain": [
       "array([False,  True, False,  True, False,  True, False])"
      ]
     },
     "execution_count": 35,
     "metadata": {},
     "output_type": "execute_result"
    }
   ],
   "source": [
    "L = [2,4,8,10,12,14,16]\n",
    "A = np.array(L)\n",
    "mask = np.array([False, True, False, True, False, True, False])\n",
    "mask"
   ]
  },
  {
   "cell_type": "code",
   "execution_count": 36,
   "id": "integral-vehicle",
   "metadata": {},
   "outputs": [
    {
     "data": {
      "text/plain": [
       "array([ 4, 10, 14])"
      ]
     },
     "execution_count": 36,
     "metadata": {},
     "output_type": "execute_result"
    }
   ],
   "source": [
    "A[mask]"
   ]
  },
  {
   "cell_type": "markdown",
   "id": "formed-sacrifice",
   "metadata": {},
   "source": [
    "`Masks` are often constructed using comparision operators and booelan logic."
   ]
  },
  {
   "cell_type": "code",
   "execution_count": 37,
   "id": "significant-violin",
   "metadata": {},
   "outputs": [
    {
     "data": {
      "text/plain": [
       "array([ 4,  8, 10, 12])"
      ]
     },
     "execution_count": 37,
     "metadata": {},
     "output_type": "execute_result"
    }
   ],
   "source": [
    "mask = (A > 2) & (A < 14)  # \"&\" Bitwise and operator\n",
    "A[mask] "
   ]
  },
  {
   "cell_type": "markdown",
   "id": "prospective-caribbean",
   "metadata": {},
   "source": [
    "__Fancy indexing__ :- Passing a list/array of indicies"
   ]
  },
  {
   "cell_type": "code",
   "execution_count": 38,
   "id": "homeless-uganda",
   "metadata": {},
   "outputs": [
    {
     "data": {
      "text/plain": [
       "(array([10, 17, 10, 17, 13, 14, 13]), array([17, 13, 13]))"
      ]
     },
     "execution_count": 38,
     "metadata": {},
     "output_type": "execute_result"
    }
   ],
   "source": [
    "A = np.random.randint(10,20, size=(7))  #generate random intergers of size 7\n",
    "idx = [1, 4, 6]                         #access 1st, 4th and 6th index\n",
    "A, A[idx]"
   ]
  },
  {
   "cell_type": "markdown",
   "id": "statutory-candy",
   "metadata": {},
   "source": [
    "multiple dimension indexing"
   ]
  },
  {
   "cell_type": "code",
   "execution_count": 39,
   "id": "ambient-dinner",
   "metadata": {},
   "outputs": [
    {
     "data": {
      "text/plain": [
       "array([[0, 1, 2],\n",
       "       [3, 4, 5]])"
      ]
     },
     "execution_count": 39,
     "metadata": {},
     "output_type": "execute_result"
    }
   ],
   "source": [
    "m = np.arange(6).reshape(2,3)\n",
    "m"
   ]
  },
  {
   "cell_type": "code",
   "execution_count": 40,
   "id": "japanese-grain",
   "metadata": {},
   "outputs": [
    {
     "data": {
      "text/plain": [
       "array([2, 3, 4])"
      ]
     },
     "execution_count": 40,
     "metadata": {},
     "output_type": "execute_result"
    }
   ],
   "source": [
    "#masking the full array\n",
    "m[abs(m - 3) < 2]"
   ]
  },
  {
   "cell_type": "markdown",
   "id": "polished-fence",
   "metadata": {},
   "source": [
    "All of these operations can be combined and composed in nearly limitless ways !"
   ]
  },
  {
   "cell_type": "markdown",
   "id": "least-mayor",
   "metadata": {},
   "source": [
    "# Computing Nearest Neighbors using Numpy"
   ]
  },
  {
   "cell_type": "markdown",
   "id": "blocked-school",
   "metadata": {},
   "source": [
    "Here comes the most exiting part as an example to work with.\n",
    "we will implement `Nearest Neighbors` Algorithm using Numpy and then we wil gonna compare it with the `scikit-learn` Implementation"
   ]
  },
  {
   "cell_type": "markdown",
   "id": "apart-worst",
   "metadata": {},
   "source": [
    "Naive approachrequires 3 nested loops for finding Nearest Neighbors with 2-dimensional data\n",
    "\n",
    "In general, for points given by Cartesian coordinates in {\\displaystyle n}n-dimensional Euclidean space, the distance is\n",
    "\n",
    "$ d\\left( p,q\\right)   = \\sqrt {\\sum _{i=1}^{n}  \\left( q_{i}-p_{i}\\right)^2 } $"
   ]
  },
  {
   "cell_type": "markdown",
   "id": "living-preliminary",
   "metadata": {},
   "source": [
    "__create 1000 points in 3 Dimension__"
   ]
  },
  {
   "cell_type": "code",
   "execution_count": 41,
   "id": "pointed-stylus",
   "metadata": {},
   "outputs": [
    {
     "data": {
      "text/plain": [
       "(1000, 3)"
      ]
     },
     "execution_count": 41,
     "metadata": {},
     "output_type": "execute_result"
    }
   ],
   "source": [
    "X = np.random.random((1000,3))\n",
    "X.shape"
   ]
  },
  {
   "cell_type": "markdown",
   "id": "after-wheel",
   "metadata": {},
   "source": [
    "__Broadcast to find Pair-wise differences__"
   ]
  },
  {
   "cell_type": "code",
   "execution_count": 42,
   "id": "coral-warrior",
   "metadata": {},
   "outputs": [
    {
     "data": {
      "text/plain": [
       "(1000, 1000, 3)"
      ]
     },
     "execution_count": 42,
     "metadata": {},
     "output_type": "execute_result"
    }
   ],
   "source": [
    "diff = X.reshape(1000,1,3) - X\n",
    "diff.shape"
   ]
  },
  {
   "cell_type": "markdown",
   "id": "standard-yugoslavia",
   "metadata": {},
   "source": [
    "__Aggregate to find Pair-wise differences__"
   ]
  },
  {
   "cell_type": "code",
   "execution_count": 43,
   "id": "utility-poverty",
   "metadata": {},
   "outputs": [
    {
     "data": {
      "text/plain": [
       "(1000, 1000)"
      ]
     },
     "execution_count": 43,
     "metadata": {},
     "output_type": "execute_result"
    }
   ],
   "source": [
    "D = (diff ** 2).sum(2)\n",
    "D.shape"
   ]
  },
  {
   "cell_type": "markdown",
   "id": "activated-visit",
   "metadata": {},
   "source": [
    "__Set diagonals to infinity to skip self-neighbors__"
   ]
  },
  {
   "cell_type": "code",
   "execution_count": 44,
   "id": "legitimate-coordinate",
   "metadata": {},
   "outputs": [],
   "source": [
    "i = np.arange(1000)\n",
    "D[i,i] = np.inf"
   ]
  },
  {
   "cell_type": "markdown",
   "id": "biblical-monroe",
   "metadata": {},
   "source": [
    "__print the indices of nearest neighbors__"
   ]
  },
  {
   "cell_type": "code",
   "execution_count": 45,
   "id": "married-bulletin",
   "metadata": {},
   "outputs": [
    {
     "data": {
      "text/plain": [
       "array([371, 846, 214, 357, 129, 517, 349, 391, 367, 574])"
      ]
     },
     "execution_count": 45,
     "metadata": {},
     "output_type": "execute_result"
    }
   ],
   "source": [
    "i = np.argmin(D,1)\n",
    "i[:10]"
   ]
  },
  {
   "cell_type": "markdown",
   "id": "retained-compound",
   "metadata": {},
   "source": [
    "#hide\n",
    "### Installing Scikit-learn"
   ]
  },
  {
   "cell_type": "code",
   "execution_count": 46,
   "id": "extraordinary-grave",
   "metadata": {},
   "outputs": [],
   "source": [
    "#hide\n",
    "# #uncomment and run this cell if you don't have numpy already installed\n",
    "# use_conda = False      #set to `True` if you want to install numpy using conda else it will be installed using pip\n",
    "# if use_conda:\n",
    "#     !conda install scikit-learn\n",
    "# else:\n",
    "#     !pip install scikit-learn"
   ]
  },
  {
   "cell_type": "markdown",
   "id": "defined-forum",
   "metadata": {},
   "source": [
    "__Double check with scikit-learn__"
   ]
  },
  {
   "cell_type": "code",
   "execution_count": 47,
   "id": "alive-purple",
   "metadata": {},
   "outputs": [
    {
     "data": {
      "text/plain": [
       "array([371, 846, 214, 357, 129, 517, 349, 391, 367, 574])"
      ]
     },
     "execution_count": 47,
     "metadata": {},
     "output_type": "execute_result"
    }
   ],
   "source": [
    "from sklearn.neighbors import NearestNeighbors\n",
    "D, i = NearestNeighbors().fit(X).kneighbors(X,2)\n",
    "i[0:10,1]"
   ]
  },
  {
   "cell_type": "markdown",
   "id": "democratic-sally",
   "metadata": {},
   "source": [
    "# Summary"
   ]
  },
  {
   "cell_type": "markdown",
   "id": "furnished-stress",
   "metadata": {},
   "source": [
    "- Writing Python is fast, loops can be slow\n",
    "\n",
    "- Numpy pushes loops into its compiled layer\n",
    "    - Fast Development time of Python\n",
    "    - Fast execution time of compiled code\n",
    "    \n",
    "\n",
    "_Strategies_:-\n",
    "1. ufuncs for element-wise operations\n",
    "2. Aggregations for array summarizations\n",
    "3. Broadcasting for combining arrays\n",
    "4. Slicing, masking and indexing for selecting and operating on subsets of arrays"
   ]
  },
  {
   "cell_type": "markdown",
   "id": "fifteen-karaoke",
   "metadata": {},
   "source": [
    "This is my first blog, so i'm happy to hear your comments and advice.\n",
    "`Happy Learning`"
   ]
  },
  {
   "cell_type": "markdown",
   "id": "regulated-treasurer",
   "metadata": {},
   "source": [
    "# References"
   ]
  },
  {
   "cell_type": "markdown",
   "id": "guided-tobago",
   "metadata": {},
   "source": [
    "This blog post is a notebook version of great talk given by [jake vanderplas](https://twitter.com/jakevdp) in [pycon-2015](https://www.youtube.com/watch?v=EEUXKG97YRw). _Talk is old, but content is gold_. Many thanks to him :)\n",
    "> youtube: https://www.youtube.com/watch?v=EEUXKG97YRw"
   ]
  },
  {
   "cell_type": "markdown",
   "id": "hundred-objective",
   "metadata": {},
   "source": [
    "- [numpy.org](https://numpy.org/doc/)\n",
    "- [scikit-learn.org](https://scikit-learn.org/)\n",
    "- Braoadcasting topic is taken from [fast.ai](http://course.fast.ai/) course Notebook -> [Chapter 17, Foundations](https://colab.research.google.com/github/fastai/fastbook/blob/master/17_foundations.ipynb)\n",
    "- [Why Python is slow ?](https://stackoverflow.com/questions/3033329/why-are-python-programs-often-slower-than-the-equivalent-program-written-in-c-or)"
   ]
  },
  {
   "cell_type": "markdown",
   "id": "sublime-slope",
   "metadata": {},
   "source": [
    "Many thanks to Professor[Jeremy Howard](https://twitter.com/jeremyphoward) for inspiring me to learn Deep learning and to write posts and help others along the way. One such instance is from below tweet ;)\n",
    "> twitter: https://twitter.com/jeremyphoward/status/1397403506051407875?s=20"
   ]
  },
  {
   "cell_type": "markdown",
   "id": "polish-amsterdam",
   "metadata": {},
   "source": [
    "------------"
   ]
  }
 ],
 "metadata": {
  "kernelspec": {
   "display_name": "coursera_ml",
   "language": "python",
   "name": "coursera_ml"
  },
  "language_info": {
   "codemirror_mode": {
    "name": "ipython",
    "version": 3
   },
   "file_extension": ".py",
   "mimetype": "text/x-python",
   "name": "python",
   "nbconvert_exporter": "python",
   "pygments_lexer": "ipython3",
   "version": "3.9.2"
  }
 },
 "nbformat": 4,
 "nbformat_minor": 5
}
